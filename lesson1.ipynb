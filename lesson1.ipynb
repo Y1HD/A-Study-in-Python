{
 "cells": [
  {
   "cell_type": "markdown",
   "metadata": {},
   "source": [
    "什么是计算机的语言？\n",
    "\n",
    "这要从计算机的本质说起：\n",
    "\n",
    "简单来讲，计算机的本质就是一个做计算的机器，它的主要任务就是处理各种数据，而这些数据的类型，就是计算机的语言类型。"
   ]
  },
  {
   "cell_type": "markdown",
   "metadata": {},
   "source": [
    "# 数据类型\n",
    "\n",
    "在Python中，最常用的数据类型有三种：\n",
    "- 字符串(str)\n",
    "- 整数(int)\n",
    "- 浮点数(float)\n",
    "\n",
    "他们三者分别具有不同的属性。\n",
    "\n",
    "## 字符串\n",
    "\n",
    "字符串英文string，简写str。\n",
    "\n",
    "作为最常用的数据类型，字符串的识别方式非常简单——有层名为【引号】的皮。\n",
    "\n",
    "只要是被【单/双/三引号】这层皮括起来的内容，不论那个内容是中文、英文、数字甚至火星文。只要是被括起来的，就表示是字符串类型。\n",
    "\n",
    "比如，在上一节我们就见过的：\n",
    "\n",
    "```\n",
    "name='巴基'\n",
    "\n",
    "print(\"I don't have friends.I've just got one.\")\n",
    "\n",
    "print('''明楼：我们明家，家教严明，向来是养花养牡丹，养草是兰草。\n",
    "王天风：我可就惨了，养花养成刺，养草成野草。''')\n",
    "\n",
    "```\n",
    "在这组代码里，`'巴基'`、`\"I don't have friends.I've just got one.\"`和双毒的对话都属于字符串类型。\n",
    "\n",
    "下面，请你先观察代码，然后点击运行按钮，跟我一起体验一下字符串的应用："
   ]
  },
  {
   "cell_type": "code",
   "execution_count": null,
   "metadata": {},
   "outputs": [],
   "source": [
    "# 请直接运行下列代码\n",
    "slogan = '命运！不配做我的对手！'\n",
    "attack = \"308\"\n",
    "gold = \"48g\"\n",
    "blood = '''+101'''\n",
    "achieve = \"First Blood!\"\n",
    "\n",
    "print(slogan)\n",
    "print(attack)\n",
    "print(gold)\n",
    "print(blood)\n",
    "print(achieve)"
   ]
  },
  {
   "cell_type": "markdown",
   "metadata": {},
   "source": [
    "怎么样，字符串的使用是不是很简单？\n",
    "\n",
    "请你也来试一试，输出下面文本内容，可直接复制粘贴。\n",
    "```\n",
    "来呀，打我呀，你们抓不到我的！\n",
    "保护我方鲁班七号！\n",
    "Double Kill!\n",
    "10s\n",
    "```\n",
    "\n",
    "【要点提示：1.文本用引号括住，创建字符串；2.将字符串赋值给变量；3. 使用4个print()函数，分别打印4个变量】。"
   ]
  },
  {
   "cell_type": "code",
   "execution_count": null,
   "metadata": {},
   "outputs": [],
   "source": [
    "# 请输入代码尝试\n"
   ]
  },
  {
   "cell_type": "markdown",
   "metadata": {},
   "source": [
    "怎么样，你做对了吗？\n",
    "\n",
    "参考答案：\n",
    "```\n",
    "slogan = '来呀，打我呀，你们抓不到我的！'\n",
    "alarm = '保护我方鲁班七号！'\n",
    "achieve = 'Double Kill!'\n",
    "cooling = '10s'\n",
    "\n",
    "print(slogan)\n",
    "print(alarm)\n",
    "print(achieve)\n",
    "print(cooling)\n",
    "```"
   ]
  },
  {
   "cell_type": "markdown",
   "metadata": {},
   "source": [
    "关于字符串，大家一定要记得：**字符串类型必须有引号的辅助。**\n",
    "\n",
    "下面，我们来小结一下字符串的知识点。\n",
    "\n",
    "|字符串str ||\n",
    "|:-----------|:-----------| \n",
    "|示例|'巴基'、'BUCKY'、'123'|\n",
    "|特点|用引号括起来的文本|"
   ]
  },
  {
   "cell_type": "markdown",
   "metadata": {},
   "source": [
    "可是有的时候，某些数据它脱了引号的马甲，也照样能打印出来。例如在上一关我们见过的`print(2)`。\n",
    "\n",
    "而这，就是我们要介绍的，常见数据类型中的第二种：整数。\n"
   ]
  },
  {
   "cell_type": "markdown",
   "metadata": {},
   "source": [
    "## 整数\n",
    "\n",
    "整数英文为integer，简写做int。代码世界的整数，和我们数学课本中定义的一样：是正整数、负整数和零的统称，是没有小数点的数字。\n",
    "\n",
    "比如在下面的代码框中，赋值语句中的数字都是整数：\n",
    "```\n",
    "a = 1\n",
    "b = -2\n",
    "c = 1222\n",
    "d = 0\n",
    "```\n",
    "现在，我们再趁热打铁一下，请问以下三个数据`'I love 3000'`、`3000`、`'3000'`的数据类型分别为："
   ]
  },
  {
   "cell_type": "code",
   "execution_count": null,
   "metadata": {},
   "outputs": [],
   "source": [
    "# 思考一下，再看答案\n",
    "\n"
   ]
  },
  {
   "cell_type": "markdown",
   "metadata": {},
   "source": [
    "正确答案\n",
    "```字符串、整数、字符串```\n",
    "\n",
    "由单引号括起来的`'I love 3000'`和`'3000'`是字符串，无引号的`3000`是整数。"
   ]
  },
  {
   "cell_type": "markdown",
   "metadata": {},
   "source": [
    "整数可以说是代码届的刺客。因为就本质来讲，整数和刺客一样，是一个灵活多变的脆皮英雄。\n",
    "\n",
    "首先，整数可以不穿名为引号的马甲，直接跟print()函数组团搞输出，比如下列代码：\n",
    "```\n",
    "print(666)\n",
    "#打印整数\n",
    "\n",
    "666\n",
    "#打印结果\n",
    "```\n",
    "但是由于没有引号这层皮的保护，整数只能单独“行动”。一旦碰上其他文字类数据，譬如中文、英文。整数这个脆皮刺客，立马被报错秒杀。\n",
    "\n",
    "比如像这样：\n",
    "```\n",
    "print(6小灵童)\n",
    "print(221bBakerStreet)\n",
    "#打印数据\n",
    "\n",
    "SyntaxError: invalid syntax\n",
    "#终端显示结果：报错：无效语法\n",
    "```\n",
    "其次，整数的**灵活多变**又体现在它的用处上，它不仅可以脱离引号被直接打印，还可以和运算符号结合，进行数学计算。\n",
    "\n",
    "下面，就请你来点击运行按钮，跑一下这些代码。"
   ]
  },
  {
   "cell_type": "code",
   "execution_count": null,
   "metadata": {},
   "outputs": [],
   "source": [
    "# 直接运行代码\n",
    "print(1976*1014+1974-930)\n",
    "\n",
    "print((1980-1023)/100+1986*827)"
   ]
  },
  {
   "cell_type": "markdown",
   "metadata": {},
   "source": [
    "看，怎么样？代码届的刺客——【整数】的直接**输出**，以及**计算**功能是不是很强大？\n",
    "\n",
    "不过说到计算，肯定要使用运算符了。Python世界的算数运算符，和我们平时在纸上写的运算符号有相同点，也有不同点。\n",
    "\n",
    "首先，我们来看看不同的部分——样式：Python的运算符在写法上，与我们平时使用的运算符稍微有点区别。\n",
    "\n",
    "![](./1_1python算术运算符.png)\n",
    "\n",
    "对于这么多的算术运算符，建议你先看一遍，有个大致的印象就行。你可以先把这张图保存上，等用的时候再找出来，对应着查阅就可以。\n",
    "\n",
    "那么，说了不一样的，咱们再说说一样的——运算优先级：Python世界的运算优先级，和我们平时的计算优先级是一样的。\n",
    "\n",
    "**简单运算优先级口诀：**\n",
    "\n",
    "**从左到右顺着来，括号里的优先算，乘除排在加减前。**\n",
    "\n",
    "比如`print((60-4)*2-55/5)`，它的计算顺序为\n",
    "```\n",
    "(60-4)-->上一步的结果*2-->55/5-->乘法运算的结果减去除法运算的结果\n",
    "```\n",
    "按照运算优先级口诀，从左到右先算括号里的，括号外的则乘除先于加减。\n",
    "\n",
    "掌握了方法，下一步就是实操“刺客”——整数的计算功能了。请你根据以下题目，写出运算公式并计算出结果。【要点提示：运算符，运算优先级，print()函数】\n",
    "```\n",
    "题目：\n",
    "\n",
    "假设我有一个15级浩克，其基础物理攻击330，\n",
    "\n",
    "现在，为了让浩克更强力，我给浩克投喂20瓶快乐水，以提升其攻击力。\n",
    "\n",
    "喝完快乐水的浩克，总物理攻击变为396。\n",
    "\n",
    "请问，每瓶快乐水的攻击力为多少？\n",
    "\n",
    "[注]总物理攻击=基础攻击+每瓶快乐水的攻击力*个数\n",
    "```"
   ]
  },
  {
   "cell_type": "code",
   "execution_count": null,
   "metadata": {},
   "outputs": [],
   "source": [
    "# 请输入代码尝试\n"
   ]
  },
  {
   "cell_type": "markdown",
   "metadata": {},
   "source": [
    "你计算出来了吗？请来点击运行，对比参考答案吧：\n",
    "```\n",
    "print((396-330)/20)\n",
    "\n",
    "```\n"
   ]
  },
  {
   "cell_type": "markdown",
   "metadata": {},
   "source": [
    "下面，我们来总结一下整数这部分的知识点：\n",
    "\n",
    "|整数int ||\n",
    "|:-----------|:-----------| \n",
    "|示例|-1、1、0、1、2|\n",
    "|特点|不带小数点的数字|\n"
   ]
  },
  {
   "cell_type": "markdown",
   "metadata": {},
   "source": [
    "到现在为止，我们已经知道了字符串和整数，这两种数据类型长啥样。可是，我们刚刚计算快乐水攻击时产生的结果`3.3`，跟上面那两种类型长得都不一样，那`3.3`又叫啥呢？\n",
    "\n",
    "它就是我们常见三种数据类型中的最后一种：代码届自带眩晕技能的法师——浮点数。"
   ]
  },
  {
   "cell_type": "markdown",
   "metadata": {},
   "source": [
    "## 浮点数\n",
    "\n",
    "整数是不带小数点的数字，那么相对的，带小数点的数字，就是浮点数。非常好识别，比如下列数字都是浮点数。\n",
    "```\n",
    "2.33\n",
    "3.14159\n",
    "-1.0\n",
    "```\n",
    "浮点数的英文名是float，与整数(int)和字符串(str)不同，浮点数没有简写。\n",
    "\n",
    "那我为什么说浮点数能让你眩晕呢？虽然浮点数识别起来非常简单，但是其运算却晦涩难懂、让人头秃。\n",
    "\n",
    "正如世界级C++大佬Herb Sutter说的：“世上的人可以分为3类：一种是知道自己不懂浮点运算的；一种是以为自己懂浮点运算的；最后一种是极少的专家级人物，他们想知道自己是否有可能，最终完全理解浮点运算。”\n",
    "\n",
    "所以，浮点运算没有你想的那么简单。那么现在，请大家跟我通过一道题，来感受一下浮点数的“眩晕技能”：\n",
    "\n",
    "请你先心算一道题`0.55+0.3`，结果是不是`0.85`？下面我们让Python算一下，请直接点击运行按钮，并阅读答案：\n",
    "\n",
    "\n",
    "\n",
    "\n",
    "\n"
   ]
  },
  {
   "cell_type": "code",
   "execution_count": null,
   "metadata": {},
   "outputs": [],
   "source": [
    "# 请直接运行代码\n",
    "\n",
    "print(0.55+0.3)"
   ]
  },
  {
   "cell_type": "markdown",
   "metadata": {},
   "source": [
    "看到没，程序算出来的结果，是不是多了很多0，在末尾还有一个1？那这一长串“尾巴”是怎么出来的？\n",
    "\n",
    "\n",
    "这是因为，Python计算浮点数的方式与我们不一样。Python计算浮点数时，会先把0.55和0.3转化成二进制数【注：二进制数由0和1表示，逢二进一】，如下列代码：\n",
    "```\n",
    "#进制转换\n",
    "0.55(十进制) = 0.1000110011001100110011001100110011001100110011001101(二进制)\n",
    "0.3(十进制) = 0.0100110011001100110011001100110011001100110011001101(二进制)\n",
    "```\n",
    "然后，这俩二进制数通过二进制法则运算后，再通过复杂的计算公式，将二进制结果转成十进制小数。\n",
    "\n",
    "经过这两次转换，小数点后面就产生了多余的“尾巴”。这样，就造成了我们与程序计算结果的差异。\n",
    "\n",
    "不过对于浮点数，你也不用太担心，因为在前期我们很少会涉及浮点数运算。而在后期，随着学习的深入，你会接触到更多的相关知识，辅助你对浮点数的进一步理解。\n",
    "\n",
    "然后，我们来看一下浮点数这部分的主要知识：\n",
    "\n",
    "|浮点数float ||\n",
    "|:-----------|:-----------| \n",
    "|示例|-2.33、2.0、1.732|\n",
    "|特点|带小数点的数字|\n"
   ]
  },
  {
   "cell_type": "markdown",
   "metadata": {},
   "source": [
    "以上，就是我们最常接触的三种数据类型：字符串、整数、浮点数的全部内容了。\n",
    "\n",
    "|数据类型 |\n",
    "|:-----------| \n",
    "|字符串（str）：用引号括起来的文本|\n",
    "|示例：'巴基'、'BUCKY'、'123'|\n",
    "|整数（int）：普通的整数数字|\n",
    "|示例：-1、1、0、1、2| \n",
    "|浮点数（float）：带小数点的数字|\n",
    "|示例：-2.33、2.0、1.732|\n"
   ]
  },
  {
   "cell_type": "markdown",
   "metadata": {},
   "source": [
    "你学得怎么样？来测试下？\n",
    "\n",
    "请问以下三个数据`42`、`'42'`、`42.0`的数据类型分别为："
   ]
  },
  {
   "cell_type": "code",
   "execution_count": null,
   "metadata": {},
   "outputs": [],
   "source": [
    "# 请思考一下，再看答案"
   ]
  },
  {
   "cell_type": "markdown",
   "metadata": {},
   "source": [
    "正确答案： `整数、字符串、浮点数`\n",
    "\n",
    "现在，你已经掌握了字符串、整数、浮点数的使用了，下面我们来学以致用一下。\n",
    "\n",
    "比方说，我有以下几个变量，然后想输出这样一句话：\n",
    "\n",
    "```I am loki, of Asgard, and I am burdened with glorious purpose.``` \n",
    "\n",
    "```\n",
    "part1 = 'I am loki,' \n",
    "part2 = ' of Asgard,'\n",
    "part3 = ' and I am burdened with'\n",
    "part4 = ' glorious purpose.'\n",
    "```\n",
    "这就涉及到了我们下一个知识点——数据拼接。"
   ]
  },
  {
   "cell_type": "markdown",
   "metadata": {},
   "source": [
    "# 数据拼接\n",
    "\n",
    "数据拼接的方法可简单了，就是利用数据拼接符号`+`，将需要拼接的变量连在一起就行了。\n",
    "\n",
    "比如，上面的例子，我可以这么写：\n",
    "```\n",
    "part1 = 'I am loki,' \n",
    "part2 = ' of Asgard,'\n",
    "part3 = ' and I am burdened with'\n",
    "part4 = ' glorious purpose.'\n",
    "\n",
    "print(part1+part2+part3+part4)\n",
    "\n",
    "注意：part2、part3、part4的字符串开头有空格哦！\n",
    "```"
   ]
  },
  {
   "cell_type": "code",
   "execution_count": null,
   "metadata": {},
   "outputs": [],
   "source": [
    "part1 = 'I am loki,' \n",
    "part2 = ' of Asgard,'\n",
    "part3 = ' and I am burdened with'\n",
    "part4 = ' glorious purpose.'\n",
    "\n",
    "print(part1+part2+part3+part4)"
   ]
  },
  {
   "cell_type": "markdown",
   "metadata": {},
   "source": [
    "有了拼接符号，我不仅可以输出`I am loki, of Asgard, and I am burdened with glorious purpose.`还可以调整变量的拼接顺序，输出不同的内容。\n"
   ]
  },
  {
   "cell_type": "markdown",
   "metadata": {},
   "source": [
    "下面我们就来试一下，请你补全下列代码，同时打印出两个结果：【结果1】Sherlock不是我的男朋友；【结果2】我不是Sherlock的男朋友。\n",
    "\n",
    "【要点提示：print()函数，拼接符号+，无需标点符号，输出结果需与要求一模一样】。\n",
    "```\n",
    "part1 = 'Sherlock'\n",
    "part2 = '不是'\n",
    "part3 = '我'\n",
    "part4 = '的男朋友'\n",
    "```"
   ]
  },
  {
   "cell_type": "code",
   "execution_count": null,
   "metadata": {},
   "outputs": [],
   "source": [
    "# 请输入代码尝试\n"
   ]
  },
  {
   "cell_type": "markdown",
   "metadata": {},
   "source": [
    "下面，请你点击运行，来看下参考答案：\n",
    "```\n",
    "part1 = 'Sherlock'\n",
    "part2 = '不是'\n",
    "part3 = '我'\n",
    "part4 = '的男朋友'\n",
    "\n",
    "print(part1+part2+part3+part4)\n",
    "print(part3+part2+part1+part4)\n",
    "```\n",
    "学会了数据拼接，就能让我们的数据整合更为灵活，组合出任意我们想要的内容。\n",
    "\n",
    "而这，就是我们数据拼接部分的要点：\n",
    "\n",
    "|数据拼接 |\n",
    "|:-----------| \n",
    "|方法：用`+`将数据进行拼接|\n",
    "|目的：数据整合|\n",
    "\n",
    "但是现在，你已经不是代码届的小萌新了，我们要增加输出（土味）内容！\n",
    "\n",
    "为了输出结果`窝窝头一块钱4个嘿嘿`，我们是不是可以把代码写成这样？\n",
    "\n",
    "```\n",
    "part1 = '窝窝头'\n",
    "part2 = '一块钱'\n",
    "part3 = 4\n",
    "part4 = '个'\n",
    "part5 = '嘿嘿'\n",
    "\n",
    "print(part1+part2+part3+part4+part5)\n",
    "```\n",
    "\n",
    "梦想是美好的，但现实是残酷的，我们立马被报错【TypeError：can only concatenate str (not \"int\") to str】（类型错误：只能将字符串与字符串拼接）按在地上摩擦摩擦。\n"
   ]
  },
  {
   "cell_type": "code",
   "execution_count": null,
   "metadata": {},
   "outputs": [],
   "source": [
    "# 不信的话，你可以运行试一下:-）\n",
    "part1 = '窝窝头'\n",
    "part2 = '一块钱'\n",
    "part3 = 4\n",
    "part4 = '个'\n",
    "part5 = '嘿嘿'\n",
    "\n",
    "print(part1+part2+part3+part4+part5)"
   ]
  },
  {
   "cell_type": "markdown",
   "metadata": {},
   "source": [
    "虽然通过报错提示，我知道了错误来源于print()函数内，数据类型的拼接错误。但是到底是哪个数据类型不对呢？我们要怎么查看数据类型呢？\n",
    "\n",
    "拿刚刚那段报错代码来说，由于变量是由我们定义的，所以我们可以用人眼查找错误源。\n",
    "\n",
    "\n",
    "但是在未来，当我们学会了更为复杂的命令，可以用代码对其他人提问，收集其他人的答案时。我们无法确定他们回复你的内容，是用什么数据类型写的。\n",
    "\n",
    "## type()函数\n",
    "\n",
    "那么，这个type()函数要怎么使用呢？答案就是：只需把查询的内容放在括号里就行。\n",
    "\n",
    "|type()函数 |\n",
    "|:-----------| \n",
    "|作用：查询数据类型|\n",
    "|示例：`print(type('查询的内容'))`|\n",
    "\n",
    "只要你把内容写在括号里，type()函数就会立即将它的类型查询出来。下面，请你用刚才的代码来试一下。"
   ]
  },
  {
   "cell_type": "code",
   "execution_count": null,
   "metadata": {},
   "outputs": [],
   "source": [
    "# 请直接点击运行按钮\n",
    "part1 = '窝窝头'\n",
    "part2 = '一块钱'\n",
    "part3 = 4\n",
    "part4 = '个'\n",
    "part5 = '嘿嘿'\n",
    "\n",
    "type(part1)\n",
    "type(part2)\n",
    "type(part3)\n",
    "type(part4)\n",
    "type(part5)"
   ]
  },
  {
   "cell_type": "markdown",
   "metadata": {},
   "source": [
    "哎？怎么什么都没出现呢？刚刚不是说过，只要按照`type(需要查询的数据)`这个格式写对了，就能出现数据的类型吗？\n",
    "\n",
    "其实，什么都没有就对了。对于Python来说，你只是下了一个命令——给我查询类型哟～然后Python就老老实实地查询了类型，再然后……就没有了。\n",
    "\n",
    "\n",
    "在你的命令里，并没有告诉Python：“你查到以后，记得告诉我这个类型的结果啊～”所以，异常老实的Python就把查询到的数据类型……存起来了，没告诉你。\n",
    "\n",
    "那么，我们如何输出结果呢？\n",
    "\n",
    "答案是，运用在上一节学习过的打印函数print()函数。\n",
    "\n",
    "下面，请你再实操一下，补全代码，运用print()函数，将查询函数的结果打印出来。例如：print(type(part1))"
   ]
  },
  {
   "cell_type": "code",
   "execution_count": null,
   "metadata": {},
   "outputs": [],
   "source": [
    "# 请补全代码并运行\n",
    "part1 = '窝窝头'\n",
    "part2 = '一块钱'\n",
    "part3 = 4\n",
    "part4 = '个'\n",
    "part5 = '嘿嘿'\n"
   ]
  },
  {
   "cell_type": "markdown",
   "metadata": {},
   "source": [
    "参考答案：\n",
    "```\n",
    "part1 = '窝窝头'\n",
    "part2 = '一块钱'\n",
    "part3 = 4\n",
    "part4 = '个'\n",
    "part5 = '嘿嘿'\n",
    "\n",
    "print(type(part1))\n",
    "print(type(part2))\n",
    "print(type(part3))\n",
    "print(type(part4))\n",
    "print(type(part5))\n",
    "```\n",
    "\n",
    "终端里出现的结果，是不是除了4个<class 'str'>，还有1个<class 'int'>？\n",
    "\n",
    "结合我们在最开始介绍的三种数据类型的知识点，下面请你回答下方代码，分别代表什么类型呢？ <class 'str'> <class 'int'>\n",
    "\n",
    "正确答案： `字符串、整数`\n",
    "\n",
    "str代表字符串，全称为string，整数的英文简称为int，全称为integer。\n",
    "\n",
    "在type()函数的帮助下，我们知道了：原来字符串里面出了一个“奸细”整数。难怪当时在终端区会给我报错说：数据类型不同呢。\n",
    "\n",
    "可是为什么不同类型的数据不能拼接在一起呢？一句话：圈子不同不相融。\n",
    "\n",
    "我打个比方，这就类似我嗑年上，你嗑年下。虽说咱俩嗑的都是同一对，但拆逆不可，大忌。\n",
    "\n",
    "再比如某些时候，你担的两位正主参加活动，和两家毒唯低头不见抬头见。那么这时候要怎么办呢？要如何把两个不同类型的数据拼在一起呢？\n",
    "\n",
    "这就涉及到了我们本节最后一个知识点：数据转换。"
   ]
  },
  {
   "cell_type": "markdown",
   "metadata": {},
   "source": [
    "# 数据转换\n",
    "\n",
    "负责转换数据类型的函数一共有3种：str()、int()和float()。\n",
    "\n",
    "## str()函数\n",
    "\n",
    "str()函数能将数据转换成其字符串类型，不管这个数据是中文、数字、标点还是火星文，只要放到括号里。这个数据就能摇身一变，成为字符串类型。\n",
    "\n",
    "下面，请你观察下列代码是如何运用str()函数解决报错，完成数据拼接的。请先观察下方代码的书写，然后点击运行按钮。"
   ]
  },
  {
   "cell_type": "code",
   "execution_count": null,
   "metadata": {},
   "outputs": [],
   "source": [
    "part1 = '窝窝头'\n",
    "part2 = '一块钱'\n",
    "part3 = 4\n",
    "part4 = '个'\n",
    "part5 = '嘿嘿'\n",
    "\n",
    "print(part1+part2+str(part3)+part4+part5)"
   ]
  },
  {
   "cell_type": "markdown",
   "metadata": {},
   "source": [
    "是不是挺简单的？我们只需通过`str(part3)`一个步骤，便可以将整数类型的`4`转化为字符串类型的`4`，成功完成数据拼接。\n",
    "\n",
    "下面请你也来试一下：补全下方代码，成功打印出结果。\n",
    "```\n",
    "两年后，25岁时，我会有一架钢琴吗```\n",
    "【要点提示：str()函数，数据拼接，print()函数】\n"
   ]
  },
  {
   "cell_type": "code",
   "execution_count": null,
   "metadata": {},
   "outputs": [],
   "source": [
    "# 请补全代码并运行\n",
    "part1 = '两年后，'\n",
    "part2 = 25\n",
    "part3 = '岁时，'\n",
    "part4 = '我会有一架钢琴吗'\n"
   ]
  },
  {
   "cell_type": "markdown",
   "metadata": {},
   "source": [
    "参考答案：\n",
    "```\n",
    "part1 = '两年后，'\n",
    "part2 = 25\n",
    "part3 = '岁时，'\n",
    "part4 = '我会有一架钢琴吗'\n",
    "\n",
    "print(part1+str(part2)+part3+part4)\n",
    "```\n",
    "整数转换字符串类型的方法是不是很方便？那如果我告诉你，还有一种转换成字符串的方法，而且这种方法你已经学会了呢？\n",
    "\n",
    "那就是借用引号的帮助，比方说`两年后，25岁时，我会有一架钢琴吗`这个结果，我也可以写成下面这样：\n",
    "```\n",
    "print(part1+'25'+part3+part4)\n",
    "```\n",
    "下面，请你来实际运行一下，看能否出现两个一样的内容："
   ]
  },
  {
   "cell_type": "code",
   "execution_count": null,
   "metadata": {},
   "outputs": [],
   "source": [
    "# 请直接运行代码\n",
    "part1 = '两年后，'\n",
    "part2 = 25\n",
    "part3 = '岁时，'\n",
    "part4 = '我会有一架钢琴吗'\n",
    "\n",
    "print(part1+str(part2)+part3+part4)\n",
    "print(part1+'25'+part3+part4)"
   ]
  },
  {
   "cell_type": "markdown",
   "metadata": {},
   "source": [
    "你看，我们是不是用两种不同的写法：str()函数和引号，输出了同一种结果？\n",
    "\n",
    "可是，为什么引号内我们使用的是数字，而不是变量名`part2`呢？这是因为，当我们使用引号时，引号里的东西，都会被强制转换为字符串格式。\n",
    "\n",
    "所以，如果我们把变量名`part2`放进引号里后，被强制转换为字符串的，将是变量名`part2`，而不是变量名代表的数字25。\n",
    "\n",
    "可能有人会在心里吐槽：既然引号用着这么麻烦，那我直接用str()呗～你看这多省事。\n",
    "\n",
    "其实，我并不是单单地在教你编程方法，而是想传达给你一种编程思维——条条大路通罗马。\n",
    "\n",
    "代码的世界千变万化，同一个结果可能有千百万种答案，如果我们只心安理得地，局限在一种思维模式下。那这个思维定势一定会阻挡你的进步，阻止你成为真·大佬。\n",
    "\n",
    "所以，我希望你能尽情创新，尝试不同的选择，就像老祖宗说的：胆大心细，绝对没错。\n",
    "\n",
    "好了，题外话到此为止。现在我们来实操一下，锻炼一下编程思维。请补齐下方代码，并用两种方法打印出结果：\n",
    "```\n",
    "周围有人正在熬夜快对他说go sleep go sleep按时睡觉做个乖宝宝1给我里giaogiao\n",
    "```"
   ]
  },
  {
   "cell_type": "code",
   "execution_count": null,
   "metadata": {},
   "outputs": [],
   "source": [
    "# 请补全代码并运行\n",
    "\n",
    "part1 = '周围有人正在熬夜'\n",
    "part2 = '快对他说'\n",
    "part3 = 'go sleep go sleep'\n",
    "part4 = '按时睡觉做个乖宝宝'\n",
    "part5 = '给我里giaogiao'\n",
    "part6 = 1\n"
   ]
  },
  {
   "cell_type": "markdown",
   "metadata": {},
   "source": [
    "参考答案：\n",
    "```\n",
    "part1 = '周围有人正在熬夜'\n",
    "part2 = '快对他说'\n",
    "part3 = 'go sleep go sleep'\n",
    "part4 = '按时睡觉做个乖宝宝'\n",
    "part5 = '给我里giaogiao'\n",
    "part6 = 1\n",
    "\n",
    "print(part1+part2+part3+part4+str(part6)+part5)\n",
    "print(part1+part2+part3+part4+'1'+part5)\n",
    "```\n",
    "怎么样，关于str()函数的内容你学会了吗？"
   ]
  },
  {
   "cell_type": "markdown",
   "metadata": {},
   "source": [
    "下面，我们来小结一下str()函数部分的知识点。\n",
    "\n",
    "|数据类型转换方法 |\n",
    "|:-----------| \n",
    "|str()：将其他数据类型转成字符串|\n",
    "|注意：也可用引号转换|"
   ]
  },
  {
   "cell_type": "markdown",
   "metadata": {},
   "source": [
    "既然整数类型能转换为字符串，那字符串类型能转换为整数吗？\n",
    "\n",
    "那必须的。"
   ]
  },
  {
   "cell_type": "markdown",
   "metadata": {},
   "source": [
    "## int()函数\n",
    "\n",
    "将数据转换为整数类型的方法也很简单，就是int()函数。其使用方法同str()一样，将你需要转换的内容放在括号里就行，像这样：`int(转换的内容)`。\n",
    "\n",
    "下面我们来试验一下，请补全代码，计算出bug和hair这两个变量的和。【要点提示：1. int()函数转换数据类型；2. 运算符+计算；3. print()函数】"
   ]
  },
  {
   "cell_type": "code",
   "execution_count": null,
   "metadata": {},
   "outputs": [],
   "source": [
    "# 请补全代码并运行\n",
    "bug = '666'\n",
    "hair = '0'"
   ]
  },
  {
   "cell_type": "markdown",
   "metadata": {},
   "source": [
    "参考答案：\n",
    "```\n",
    "bug = '666'\n",
    "hair = '0'\n",
    "\n",
    "print(int(bug)+int(hair))\n",
    "```\n",
    "不过对于int()函数的使用，大家要注意一点：只有符合整数规范的字符串类数据，才能被int()强制转换。\n",
    "\n",
    "别看它虽然只有一句话，但它其实带有三层含义：\n",
    "- 首先，整数形式的字符串比如`'666'`和`'0'`，可以被int()函数强制转换。\n",
    "\n",
    "- 其次，文字形式，比如中文、火星文或者标点符号，不可以被int()函数强制转换。\n",
    "\n",
    "- 最后，小数形式的字符串，由于Python的语法规则，也不能使用int()函数强制转换。\n",
    "\n",
    "比方说下列代码，如果点击运行，程序会报错`ValueError：invalid literal for int() with base 10: '3.8'`"
   ]
  },
  {
   "cell_type": "code",
   "execution_count": null,
   "metadata": {},
   "outputs": [],
   "source": [
    "print(int('3.8'))\n",
    "\n",
    "#运行后显示结果：ValueError：invalid literal for int() with base 10: '3.8'"
   ]
  },
  {
   "cell_type": "markdown",
   "metadata": {},
   "source": [
    "这是不是意味着，浮点数不能转换成整数类型了？\n",
    "\n",
    "不，虽然浮点形式的字符串，不能使用int()函数。但浮点数是可以被int()函数强制转换的。\n",
    "\n",
    "下面，请你先观察下方代码框中的代码，然后点击运行按钮。"
   ]
  },
  {
   "cell_type": "code",
   "execution_count": null,
   "metadata": {},
   "outputs": [],
   "source": [
    "# 请运行代码\n",
    "print(int(3.8))"
   ]
  },
  {
   "cell_type": "markdown",
   "metadata": {},
   "source": [
    "上方的代码串，就是一条将浮点数3.8强制转换的语句。但是，为什么输出的结果是3呢？\n",
    "\n",
    "你看，int()函数的本质是将数据转换为整数。所以对于浮点数，int()函数会做取整处理。但是，同我们平时对小数四舍五入的处理方法不同，int()函数会直接抹零，直接输出整数部分。\n",
    "\n",
    "现在，对于int()函数你是不是了解得很透彻了呢？我们来做道题检验一下吧。\n",
    "\n",
    "请找出下列选项中，无法通过int()函数转换为整数类型的选项。\n",
    "```\n",
    "A. '2021'\n",
    "B. 20.21\n",
    "C. 'Book思议'\n",
    "D. 2021\n",
    "```\n",
    "答案是C，`'Book思议'`为文字类数据，无法转换为整数类型。\n",
    "\n",
    "最后，我们来小结一下int()函数的知识点。\n",
    "\n",
    "|数据类型转换方法 |\n",
    "|:-----------| \n",
    "|int()：将其他数据类型转成整数|\n",
    "|注意：\n",
    "1.文字类和小数类字符串，无法转化成整数 \n",
    "2.浮点数转化成整数：抹零取整|\n",
    "\n",
    "可是，如果遇到这种情况：字符串就是小数形式，比如'3.8'这种。我不想让它变为整数3，想让它保持小数形式的3.8，那我要怎么做呢？\n",
    "\n",
    "这就涉及到了我们本节，最后一个知识点——float()函数。\n",
    "\n",
    "\n"
   ]
  },
  {
   "cell_type": "markdown",
   "metadata": {},
   "source": [
    "## float()函数\n",
    "\n",
    "首先float()函数的使用，也是将需要转换的数据放在括号里，像这样：`float(数据)`。\n",
    "\n",
    "其次，float()函数也可以将整数和字符串转换为浮点类型。但同时，如果括号里面的数据是字符串类型，那这个数据一定得是数字形式。\n",
    "\n",
    "那么，经过之前str()和int()操练，float()函数是不是好懂了一些？\n",
    "\n",
    "下面，我们来打段代码练练手。请补齐代码，将下列变量，转换为浮点类型，并打印出结果。【要点提示：print(float(数据))】"
   ]
  },
  {
   "cell_type": "code",
   "execution_count": null,
   "metadata": {},
   "outputs": [],
   "source": [
    "# 请补全代码并运行\n",
    "height = 183.5\n",
    "weight = 72\n",
    "age = '45'\n"
   ]
  },
  {
   "cell_type": "markdown",
   "metadata": {},
   "source": [
    "参考答案：\n",
    "```\n",
    "height = 183.5\n",
    "weight = 72\n",
    "age = '45'\n",
    "\n",
    "\n",
    "print(float(height))\n",
    "print(float(weight))\n",
    "print(float(age))\n",
    "```\n",
    "\n",
    "到现在为止，你已经知道了转换数据类型的方法了，最后我们再总结一下这三种方法。\n",
    "\n",
    "|数据类型转换方法 |\n",
    "|:-----------| \n",
    "|**str()：将其他数据类型转成字符串**|\n",
    "|注意：也可用引号转换|\n",
    "|**int()：将其他数据类型转成整数**|\n",
    "|注意：\n",
    "1.文字类和小数类字符串，无法转化成整数 \n",
    "2.浮点数转化成整数：抹零取整|\n",
    "|**float()：将其他数据类型转成浮点数**|\n",
    "|注意：文字类字符串无法转成浮点数|"
   ]
  },
  {
   "cell_type": "markdown",
   "metadata": {},
   "source": [
    "下面，我们来解决刚进入float()函数部分时，我们的问题：字符串就是小数形式，比如'3.8'，我如何将这个字符串，直接转换为浮点类型呢？\n",
    "\n",
    "比方说我想使用以下变量，输出这样一个结果`人工智障说：3.8+1等于4`。\n",
    "```\n",
    "word = '3.8'\n",
    "number = 1\n",
    "sentence = '人工智障说：3.8+1等于'\n",
    "\n",
    "输出结果：\n",
    "人工智障说：3.8+1等于4\n",
    "```\n",
    "其中，输出结果中的4，是由字符串型变量`word = '3.8'`，加上整数型变量`number = 1`得出来的。\n",
    "\n",
    "那么，我先将字符串转换为整数，计算后再与其他数据拼接？可我这第一步int(word)就被报错卡住了，那要怎么办呢？\n",
    "\n",
    "不如，你先来看看我是怎么写的。"
   ]
  },
  {
   "cell_type": "code",
   "execution_count": null,
   "metadata": {},
   "outputs": [],
   "source": [
    "#请不要更改代码，直接运行\n",
    "word = '3.8'\n",
    "number = 1\n",
    "sentence = '人工智障说：3.8+1等于'\n",
    "\n",
    "print(sentence+str(int(float(word)+number)))"
   ]
  },
  {
   "cell_type": "markdown",
   "metadata": {},
   "source": [
    "额……猛的一看这串代码真是转换套转换……真是好嗨哟～是不是感觉代码人生到达了巅峰～\n",
    "\n",
    "先别急，让我们来一层一层拆解、分析一下。首先，我们先看`float(word)`这部分。\n",
    "```\n",
    "word = '3.8'\n",
    "number = 1\n",
    "sentence = '人工智障说：3.8+1等于'\n",
    "\n",
    "float(word)\n",
    "```\n",
    "为了与整数`number = 1`进行计算，我们需要将字符串形式的`word = '3.8'`变为能做计算的数据类型。\n",
    "\n",
    "经过我们上面的学习，我们知道，能做计算的类型有两种：整数型和浮点型。\n",
    "\n",
    "那么，既然无法用int()函数转换。那我们可以不可以用float()函数，将字符串型变量`word = '3.8'`，转换为同样可以做数学运算的浮点型呢？要不，咱试下？\n",
    "\n",
    "请在下方代码框中，用print()函数输出`float(word)`的结果，输出格式：`print(float(变量))`。"
   ]
  },
  {
   "cell_type": "code",
   "execution_count": null,
   "metadata": {},
   "outputs": [],
   "source": [
    "# 请补全代码并运行\n",
    "word = '3.8'\n",
    "number = 1\n",
    "sentence = '人工智障说：3.8+1等于'"
   ]
  },
  {
   "cell_type": "markdown",
   "metadata": {},
   "source": [
    "参考答案：\n",
    "```\n",
    "word = '3.8'\n",
    "number = 1\n",
    "sentence = '人工智障说：3.8+1等于'\n",
    "\n",
    "print(float(word))\n",
    "```\n",
    "经过转化后，我们的`word = '3.8'`已经成功脱去引号，成为了浮点型，可以做数学运算了。\n",
    "\n",
    "下面，请你补齐下方代码，将成为浮点型的变量`word`与`number = 1`相加，并输出结果。【要点提示：运算符`+`，浮点类型可直接加减】"
   ]
  },
  {
   "cell_type": "code",
   "execution_count": null,
   "metadata": {},
   "outputs": [],
   "source": [
    "# 请补全代码并运行\n",
    "word = '3.8'\n",
    "number = 1\n",
    "sentence = '人工智障说：3.8+1等于'\n",
    "\n",
    "float(word)"
   ]
  },
  {
   "cell_type": "markdown",
   "metadata": {},
   "source": [
    "参考答案：\n",
    "```\n",
    "word = '3.8'\n",
    "number = 1\n",
    "sentence = '人工智障说：3.8+1等于'\n",
    "\n",
    "print(float(word)+number)\n",
    "```\n",
    "但是，为了得到`4`这个结果，我们需要将计算结果`4.8`，抹去小数部分取个整。\n",
    "\n",
    "下面，请你继续续补全代码。运用int()函数将上一步的计算结果转换，得出结果`4`。\n",
    "\n",
    "【要点提示：int()函数取整，print()函数，格式：`print(int(需转化数据))`】。"
   ]
  },
  {
   "cell_type": "code",
   "execution_count": null,
   "metadata": {},
   "outputs": [],
   "source": [
    "# 请补全代码并运行\n",
    "word = '3.8'\n",
    "number = 1\n",
    "sentence = '人工智障说：3.8+1等于'\n",
    "\n",
    "float(word)+number"
   ]
  },
  {
   "cell_type": "markdown",
   "metadata": {},
   "source": [
    "参考答案：\n",
    "```\n",
    "word = '3.8'\n",
    "number = 1\n",
    "sentence = '人工智障说：3.8+1等于'\n",
    "\n",
    "print(int(float(word)+number))\n",
    "```\n",
    "好了，现在你是不是觉得，终于可以进行拼接，得出结果`人工智障说：3.8+1等于4`了？\n",
    "\n",
    "还不行，因为到现在为止，我们所有的数据都是整数类型，而数据拼接需要字符串的支持。\n",
    "\n",
    "所以，我们还要把刚刚得出的那一串数据，用str()函数转换一下。\n",
    "\n",
    "老规矩，请你继续补齐代码，将最下方代码串转换为字符串类型，并打印出字符串类型的结果`4`。【要点提示：print()函数，str()函数】。"
   ]
  },
  {
   "cell_type": "code",
   "execution_count": null,
   "metadata": {},
   "outputs": [],
   "source": [
    "# 请补全代码并运行\n",
    "word = '3.8'\n",
    "number = 1\n",
    "sentence = '人工智障说：3.8+1等于'\n",
    "\n",
    "int(float(word)+number)"
   ]
  },
  {
   "cell_type": "markdown",
   "metadata": {},
   "source": [
    "参考答案：\n",
    "```\n",
    "word = '3.8'\n",
    "number = 1\n",
    "sentence = '人工智障说：3.8+1等于'\n",
    "\n",
    "print(sentence+str(int(float(word)+number)))\n",
    "```\n",
    "这么看来，虽然看上去挺复杂的，但通过我们这么一步步拆解，是不是简单多了？\n",
    "\n",
    "掌握了数据类型、数据拼接以及数据转换的你，有没有成为大佬的成就感？\n",
    "\n",
    "但这仅仅是开始，以后你将学习更为复杂的代码及命令，掌握更多的与计算机沟通的技巧。\n",
    "\n",
    "那么最后，我们来用一张总结图结束本节的内容吧，我们下节见！\n",
    "\n",
    "![](./1-2python数据类型.png)"
   ]
  },
  {
   "cell_type": "markdown",
   "metadata": {},
   "source": [
    "# 练习\n",
    "\n",
    "1.题目要求：\n",
    "\n",
    "请运用所给变量，使用str()函数打印两句话。\n",
    "第一句话：`1人我编程累碎掉的节操满地堆`\n",
    "第二句话：`2眼是bug相随我只求今日能早归`\n",
    "\n",
    "```\n",
    "number1 = 1\n",
    "number2 = 2\n",
    "unit1 = '人'\n",
    "unit2 = '眼'\n",
    "line1 = '我编程累'\n",
    "line2 = '是bug相随'\n",
    "sentence1 = '碎掉的节操满地堆'\n",
    "sentence2 = '我只求今日能早归'\n",
    "```\n",
    "题目讲解：\n",
    "\n",
    "1.将非字符串型变量转换为字符串类型\n",
    "\n",
    "2.将字符串型变量拼接在一起\n",
    "\n",
    "3.使用print()函数打印拼接结果"
   ]
  },
  {
   "cell_type": "code",
   "execution_count": null,
   "metadata": {},
   "outputs": [],
   "source": [
    "# 请输入代码尝试\n"
   ]
  },
  {
   "cell_type": "markdown",
   "metadata": {},
   "source": [
    "参考答案：\n",
    "```\n",
    "number1 = 1\n",
    "number2 = 2\n",
    "unit1 = '人'\n",
    "unit2 = '眼'\n",
    "line1 = '我编程累'\n",
    "line2 = '是bug相随'\n",
    "sentence1 = '碎掉的节操满地堆'\n",
    "sentence2 = '我只求今日能早归'\n",
    "\n",
    "print(str(number1)+unit1+line1+sentence1)\n",
    "print('2'+unit2+line2+sentence2)\n",
    "```"
   ]
  },
  {
   "cell_type": "code",
   "execution_count": null,
   "metadata": {},
   "outputs": [],
   "source": [
    "number1 = 1\n",
    "number2 = 2\n",
    "unit1 = '人'\n",
    "unit2 = '眼'\n",
    "line1 = '我编程累'\n",
    "line2 = '是bug相随'\n",
    "sentence1 = '碎掉的节操满地堆'\n",
    "sentence2 = '我只求今日能早归'\n",
    "\n",
    "print(str(number1)+unit1+line1+sentence1)\n",
    "print('2'+unit2+line2+sentence2)"
   ]
  },
  {
   "cell_type": "markdown",
   "metadata": {},
   "source": [
    "2.题目要求：\n",
    "\n",
    "请运用所给变量，使用数据转换str()、int()、float()及数据拼接符号+，打印一句话： `脸黑怪我咯7张蓝票一个SSR都没有`\n",
    "```\n",
    "所给变量：\n",
    "slogan = '脸黑怪我咯'\n",
    "number = '7.8'\n",
    "unit = '张'\n",
    "sentence = '蓝票一个SSR都没有'\n",
    "```\n",
    "题目讲解：\n",
    "\n",
    "1.由于变量中有小数形式的字符串`'7.8'`，所以需要使用转换函数将此变量转换为浮点型\n",
    "\n",
    "2.转换后使用int()函数取整\n",
    "\n",
    "3.由于数据拼接需要变量为字符串形式，所以需要将变量转化为字符串类型\n",
    "\n",
    "4.最后数据拼接，得出结果"
   ]
  },
  {
   "cell_type": "code",
   "execution_count": null,
   "metadata": {},
   "outputs": [],
   "source": [
    "# 请输入代码尝试\n"
   ]
  },
  {
   "cell_type": "markdown",
   "metadata": {},
   "source": [
    "参考答案：\n",
    "```\n",
    "slogan = '脸黑怪我咯'\n",
    "number = '7.8'\n",
    "unit = '张'\n",
    "sentence = '蓝票一个SSR都没有'\n",
    "\n",
    "print(slogan + str(int(float(number))) + unit + sentence)\n",
    "```"
   ]
  }
 ],
 "metadata": {
  "kernelspec": {
   "display_name": "Python 3",
   "language": "python",
   "name": "python3"
  },
  "language_info": {
   "codemirror_mode": {
    "name": "ipython",
    "version": 3
   },
   "file_extension": ".py",
   "mimetype": "text/x-python",
   "name": "python",
   "nbconvert_exporter": "python",
   "pygments_lexer": "ipython3",
   "version": "3.7.4"
  }
 },
 "nbformat": 4,
 "nbformat_minor": 2
}
